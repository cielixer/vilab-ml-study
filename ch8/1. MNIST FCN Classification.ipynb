{
 "metadata": {
  "language_info": {
   "codemirror_mode": {
    "name": "ipython",
    "version": 3
   },
   "file_extension": ".py",
   "mimetype": "text/x-python",
   "name": "python",
   "nbconvert_exporter": "python",
   "pygments_lexer": "ipython3",
   "version": "3.7.9-final"
  },
  "orig_nbformat": 2,
  "kernelspec": {
   "name": "python3",
   "display_name": "Python 3",
   "language": "python"
  }
 },
 "nbformat": 4,
 "nbformat_minor": 2,
 "cells": [
  {
   "source": [
    "# Machine learning\n",
    "## Chapter 8, MNIST FCN classification\n",
    "## Jun Sup Shin, Digital imaging, GSAIM, CAU"
   ],
   "cell_type": "markdown",
   "metadata": {}
  },
  {
   "cell_type": "code",
   "execution_count": 1,
   "metadata": {},
   "outputs": [],
   "source": [
    "from __future__ import print_function\n",
    "import torch\n",
    "import torch.nn as nn\n",
    "import torch.nn.functional as F\n",
    "import torch.optim as optim\n",
    "from torchvision import datasets, transforms\n",
    "from torch.optim.lr_scheduler import StepLR\n",
    "from PIL import Image # for renderling image\n",
    "\n",
    "import matplotlib as mpl\n",
    "import matplotlib.pyplot as plt\n",
    "import numpy as np"
   ]
  },
  {
   "cell_type": "code",
   "execution_count": 9,
   "metadata": {},
   "outputs": [
    {
     "output_type": "stream",
     "name": "stdout",
     "text": [
      "torch.Size([1000, 784])\n<class 'torch.Tensor'>\n"
     ]
    },
    {
     "output_type": "display_data",
     "data": {
      "text/plain": "<Figure size 432x288 with 6 Axes>",
      "image/svg+xml": "<?xml version=\"1.0\" encoding=\"utf-8\" standalone=\"no\"?>\r\n<!DOCTYPE svg PUBLIC \"-//W3C//DTD SVG 1.1//EN\"\r\n  \"http://www.w3.org/Graphics/SVG/1.1/DTD/svg11.dtd\">\r\n<!-- Created with matplotlib (https://matplotlib.org/) -->\r\n<svg height=\"266.418125pt\" version=\"1.1\" viewBox=\"0 0 405.023322 266.418125\" width=\"405.023322pt\" xmlns=\"http://www.w3.org/2000/svg\" xmlns:xlink=\"http://www.w3.org/1999/xlink\">\r\n <metadata>\r\n  <rdf:RDF xmlns:cc=\"http://creativecommons.org/ns#\" xmlns:dc=\"http://purl.org/dc/elements/1.1/\" xmlns:rdf=\"http://www.w3.org/1999/02/22-rdf-syntax-ns#\">\r\n   <cc:Work>\r\n    <dc:type rdf:resource=\"http://purl.org/dc/dcmitype/StillImage\"/>\r\n    <dc:date>2021-01-28T18:56:47.599717</dc:date>\r\n    <dc:format>image/svg+xml</dc:format>\r\n    <dc:creator>\r\n     <cc:Agent>\r\n      <dc:title>Matplotlib v3.3.3, https://matplotlib.org/</dc:title>\r\n     </cc:Agent>\r\n    </dc:creator>\r\n   </cc:Work>\r\n  </rdf:RDF>\r\n </metadata>\r\n <defs>\r\n  <style type=\"text/css\">*{stroke-linecap:butt;stroke-linejoin:round;}</style>\r\n </defs>\r\n <g id=\"figure_1\">\r\n  <g id=\"patch_1\">\r\n   <path d=\"M 0 266.418125 \r\nL 405.023322 266.418125 \r\nL 405.023322 0 \r\nL 0 0 \r\nz\r\n\" style=\"fill:none;\"/>\r\n  </g>\r\n  <g id=\"axes_1\">\r\n   <g id=\"patch_2\">\r\n    <path d=\"M 10.7 123.868125 \r\nL 112.25 123.868125 \r\nL 112.25 22.318125 \r\nL 10.7 22.318125 \r\nz\r\n\" style=\"fill:#ffffff;\"/>\r\n   </g>\r\n   <g clip-path=\"url(#ped0a53e4f3)\">\r\n    <image height=\"28\" id=\"image723b5156cb\" style=\"image-rendering:crisp-edges;image-rendering:pixelated\" transform=\"matrix(3.642857 0 0 3.642857 10.7 21.868125)\" width=\"28\" xlink:href=\"data:image/png;base64,\r\niVBORw0KGgoAAAANSUhEUgAAABwAAAAcCAYAAAByDd+UAAAB3klEQVR4nO2VT6s5URzGHz8/i1s2iLIQpZSNJGryL2VHVuMtzGqW9nY23oBXwEuws7bAYhaa/E1IpBAWI5zv3albd9wxuKv71Nmc8zzn09PMOccAgPCL+vebsD/gH1CX/qst5PN5CIKAxWIBRVFQrVaxXC4xHA6fAhqgcg7H4zE8Hs+XucPhgG63e3fD+XyOcrmMdrv97bpqQ0EQEAgEIMsy/H4/QqEQUqkUOI7DbDaDy+W6eS+XC9brNZxOJwBgOp2qAlUbfieLxYJgMIhOp4NIJHKbVxQF/X4fsizDarVCFEVUKhXVfegVg+d5ul6vJEkSWa3We97nYQ6Hg1arFRER8Tx/1/uSYyGKIux2O7bbLXq93o/+p9rFYjE6nU7EGKNkMvmj/+mGmUwGJpMJjUYDzWZTU0Z3u4+PD+p0OqQoCkWjUa05/cBisUiMMarX64/k9MGy2Sydz2fa7XbEcdx7gTabjUajETHGqFarPZp/DGY0GqnVahFjjAaDAXm93vcCfT4fMcaIMUa5XE7P59BudrvdNJlMiDFGhUKBDAbDe4GlUunWLhwO6/rZNAPj8Tjt9/ungZpvmkQiAbPZDAAYjUY4Ho9ao1+k+gCrSZIkpNNpbDYbXcCHHuBX6BNGjQcaYVSQRgAAAABJRU5ErkJggg==\"/>\r\n   </g>\r\n   <g id=\"matplotlib.axis_1\"/>\r\n   <g id=\"matplotlib.axis_2\"/>\r\n   <g id=\"patch_3\">\r\n    <path d=\"M 10.7 123.868125 \r\nL 10.7 22.318125 \r\n\" style=\"fill:none;stroke:#000000;stroke-linecap:square;stroke-linejoin:miter;stroke-width:0.8;\"/>\r\n   </g>\r\n   <g id=\"patch_4\">\r\n    <path d=\"M 112.25 123.868125 \r\nL 112.25 22.318125 \r\n\" style=\"fill:none;stroke:#000000;stroke-linecap:square;stroke-linejoin:miter;stroke-width:0.8;\"/>\r\n   </g>\r\n   <g id=\"patch_5\">\r\n    <path d=\"M 10.7 123.868125 \r\nL 112.25 123.868125 \r\n\" style=\"fill:none;stroke:#000000;stroke-linecap:square;stroke-linejoin:miter;stroke-width:0.8;\"/>\r\n   </g>\r\n   <g id=\"patch_6\">\r\n    <path d=\"M 10.7 22.318125 \r\nL 112.25 22.318125 \r\n\" style=\"fill:none;stroke:#000000;stroke-linecap:square;stroke-linejoin:miter;stroke-width:0.8;\"/>\r\n   </g>\r\n   <g id=\"text_1\">\r\n    <!-- GT: 7 -->\r\n    <g transform=\"translate(46.293125 16.318125)scale(0.12 -0.12)\">\r\n     <defs>\r\n      <path d=\"M 59.515625 10.40625 \r\nL 59.515625 29.984375 \r\nL 43.40625 29.984375 \r\nL 43.40625 38.09375 \r\nL 69.28125 38.09375 \r\nL 69.28125 6.78125 \r\nQ 63.578125 2.734375 56.6875 0.65625 \r\nQ 49.8125 -1.421875 42 -1.421875 \r\nQ 24.90625 -1.421875 15.25 8.5625 \r\nQ 5.609375 18.5625 5.609375 36.375 \r\nQ 5.609375 54.25 15.25 64.234375 \r\nQ 24.90625 74.21875 42 74.21875 \r\nQ 49.125 74.21875 55.546875 72.453125 \r\nQ 61.96875 70.703125 67.390625 67.28125 \r\nL 67.390625 56.78125 \r\nQ 61.921875 61.421875 55.765625 63.765625 \r\nQ 49.609375 66.109375 42.828125 66.109375 \r\nQ 29.4375 66.109375 22.71875 58.640625 \r\nQ 16.015625 51.171875 16.015625 36.375 \r\nQ 16.015625 21.625 22.71875 14.15625 \r\nQ 29.4375 6.6875 42.828125 6.6875 \r\nQ 48.046875 6.6875 52.140625 7.59375 \r\nQ 56.25 8.5 59.515625 10.40625 \r\nz\r\n\" id=\"DejaVuSans-71\"/>\r\n      <path d=\"M -0.296875 72.90625 \r\nL 61.375 72.90625 \r\nL 61.375 64.59375 \r\nL 35.5 64.59375 \r\nL 35.5 0 \r\nL 25.59375 0 \r\nL 25.59375 64.59375 \r\nL -0.296875 64.59375 \r\nz\r\n\" id=\"DejaVuSans-84\"/>\r\n      <path d=\"M 11.71875 12.40625 \r\nL 22.015625 12.40625 \r\nL 22.015625 0 \r\nL 11.71875 0 \r\nz\r\nM 11.71875 51.703125 \r\nL 22.015625 51.703125 \r\nL 22.015625 39.3125 \r\nL 11.71875 39.3125 \r\nz\r\n\" id=\"DejaVuSans-58\"/>\r\n      <path id=\"DejaVuSans-32\"/>\r\n      <path d=\"M 8.203125 72.90625 \r\nL 55.078125 72.90625 \r\nL 55.078125 68.703125 \r\nL 28.609375 0 \r\nL 18.3125 0 \r\nL 43.21875 64.59375 \r\nL 8.203125 64.59375 \r\nz\r\n\" id=\"DejaVuSans-55\"/>\r\n     </defs>\r\n     <use xlink:href=\"#DejaVuSans-71\"/>\r\n     <use x=\"73.865234\" xlink:href=\"#DejaVuSans-84\"/>\r\n     <use x=\"123.949219\" xlink:href=\"#DejaVuSans-58\"/>\r\n     <use x=\"157.640625\" xlink:href=\"#DejaVuSans-32\"/>\r\n     <use x=\"189.427734\" xlink:href=\"#DejaVuSans-55\"/>\r\n    </g>\r\n   </g>\r\n  </g>\r\n  <g id=\"axes_2\">\r\n   <g id=\"patch_7\">\r\n    <path d=\"M 153.486661 123.868125 \r\nL 255.036661 123.868125 \r\nL 255.036661 22.318125 \r\nL 153.486661 22.318125 \r\nz\r\n\" style=\"fill:#ffffff;\"/>\r\n   </g>\r\n   <g clip-path=\"url(#pcd2cde6d41)\">\r\n    <image height=\"28\" id=\"imaged9152a959f\" style=\"image-rendering:crisp-edges;image-rendering:pixelated\" transform=\"matrix(3.642857 0 0 3.642857 153.486661 21.868125)\" width=\"28\" xlink:href=\"data:image/png;base64,\r\niVBORw0KGgoAAAANSUhEUgAAABwAAAAcCAYAAAByDd+UAAACAElEQVR4nN2WPaviUBCG37tchSuCEguxUcFSsEov9n40gv9D/CA/QCu1tdPCSiQi9hYiqIUIBgSxsova2agYx9lmN6x4xcR178IdeIszmTPPmeF85A0A4wvtx1fC/gvw3WhgJpPBx8cHQqEQkskkAKBarWI0GqHRaJiC8iM1m00mok+1XC7Z6/U+zPGHzMHm8zlXKhXudDq6T5Kk1wBFUeTT6cRExIqisN/vZ7vdzgDYarXydDplIuJSqfQaYCwWY03TWFEU9ng8V98kSeLj8chExJFI5HUt9fl8LAjCjX82m+ktfSnwM2WzWT4cDkxEPBwO2Waz/TtgNBrVYaqqcjgcNjXf9MEXRRFWqxUA0Gw20e/3zaYwvrpOp8P7/Z6JiOv1ur5jTcpYoMfj4e12y0TEm82GA4HAMzDjwOFwqO/Kcrn8LMwYMB6P62eu1+s920pjQJfLxePx+FXVPQYWi0UdJsvy31b3GPi7lUR0c709I8PvIQAIggBN0658u90OmqbBYrHA4XAAAJxOJ9LptB5DRMjn89jv98YfYABQFOXG12q1oKoq3G43UqnU3bnr9RqFQgFv+NXXe9Zut5FIJAwv6nw+43K5AAC63S4mkwkAYDAYYDwePwYCQC6Xg8Vi0cfBYPCqmlqthtVqBQCQZRmLxeJuLkPAV9r3/038/sCftc2EO8hVIlcAAAAASUVORK5CYII=\"/>\r\n   </g>\r\n   <g id=\"matplotlib.axis_3\"/>\r\n   <g id=\"matplotlib.axis_4\"/>\r\n   <g id=\"patch_8\">\r\n    <path d=\"M 153.486661 123.868125 \r\nL 153.486661 22.318125 \r\n\" style=\"fill:none;stroke:#000000;stroke-linecap:square;stroke-linejoin:miter;stroke-width:0.8;\"/>\r\n   </g>\r\n   <g id=\"patch_9\">\r\n    <path d=\"M 255.036661 123.868125 \r\nL 255.036661 22.318125 \r\n\" style=\"fill:none;stroke:#000000;stroke-linecap:square;stroke-linejoin:miter;stroke-width:0.8;\"/>\r\n   </g>\r\n   <g id=\"patch_10\">\r\n    <path d=\"M 153.486661 123.868125 \r\nL 255.036661 123.868125 \r\n\" style=\"fill:none;stroke:#000000;stroke-linecap:square;stroke-linejoin:miter;stroke-width:0.8;\"/>\r\n   </g>\r\n   <g id=\"patch_11\">\r\n    <path d=\"M 153.486661 22.318125 \r\nL 255.036661 22.318125 \r\n\" style=\"fill:none;stroke:#000000;stroke-linecap:square;stroke-linejoin:miter;stroke-width:0.8;\"/>\r\n   </g>\r\n   <g id=\"text_2\">\r\n    <!-- GT: 2 -->\r\n    <g transform=\"translate(189.079786 16.318125)scale(0.12 -0.12)\">\r\n     <defs>\r\n      <path d=\"M 19.1875 8.296875 \r\nL 53.609375 8.296875 \r\nL 53.609375 0 \r\nL 7.328125 0 \r\nL 7.328125 8.296875 \r\nQ 12.9375 14.109375 22.625 23.890625 \r\nQ 32.328125 33.6875 34.8125 36.53125 \r\nQ 39.546875 41.84375 41.421875 45.53125 \r\nQ 43.3125 49.21875 43.3125 52.78125 \r\nQ 43.3125 58.59375 39.234375 62.25 \r\nQ 35.15625 65.921875 28.609375 65.921875 \r\nQ 23.96875 65.921875 18.8125 64.3125 \r\nQ 13.671875 62.703125 7.8125 59.421875 \r\nL 7.8125 69.390625 \r\nQ 13.765625 71.78125 18.9375 73 \r\nQ 24.125 74.21875 28.421875 74.21875 \r\nQ 39.75 74.21875 46.484375 68.546875 \r\nQ 53.21875 62.890625 53.21875 53.421875 \r\nQ 53.21875 48.921875 51.53125 44.890625 \r\nQ 49.859375 40.875 45.40625 35.40625 \r\nQ 44.1875 33.984375 37.640625 27.21875 \r\nQ 31.109375 20.453125 19.1875 8.296875 \r\nz\r\n\" id=\"DejaVuSans-50\"/>\r\n     </defs>\r\n     <use xlink:href=\"#DejaVuSans-71\"/>\r\n     <use x=\"73.865234\" xlink:href=\"#DejaVuSans-84\"/>\r\n     <use x=\"123.949219\" xlink:href=\"#DejaVuSans-58\"/>\r\n     <use x=\"157.640625\" xlink:href=\"#DejaVuSans-32\"/>\r\n     <use x=\"189.427734\" xlink:href=\"#DejaVuSans-50\"/>\r\n    </g>\r\n   </g>\r\n  </g>\r\n  <g id=\"axes_3\">\r\n   <g id=\"patch_12\">\r\n    <path d=\"M 296.273322 123.868125 \r\nL 397.823322 123.868125 \r\nL 397.823322 22.318125 \r\nL 296.273322 22.318125 \r\nz\r\n\" style=\"fill:#ffffff;\"/>\r\n   </g>\r\n   <g clip-path=\"url(#p5646bba8fe)\">\r\n    <image height=\"28\" id=\"image1587708daf\" style=\"image-rendering:crisp-edges;image-rendering:pixelated\" transform=\"matrix(3.642857 0 0 3.642857 296.273322 21.868125)\" width=\"28\" xlink:href=\"data:image/png;base64,\r\niVBORw0KGgoAAAANSUhEUgAAABwAAAAcCAYAAAByDd+UAAABTklEQVR4nO2WMYrCQBiFnyuCJJ1FSBcrsTConUVAhFSewgt4EcHWOwiB5BRBhNSmszBFIAQLEdLkf9vs9plZEnZhHwSm+fjmPaZIDwDRYT66lP0LG2UymUBEsN/vuxEul0uICLIs60a4WCzwfr8RhmFjhrrfbDbj6/Xi6XRqzPyo4XQ6hWmaOJ/PSpx2w+v1yvv9TtM0VTg92Xg8pogwTVMlTnvS9XoNACiKQonTFrquCwA4HA7KrPKcq9WKZVkySRIOh8P2J/V9H6PRCGmaoqoqJVZLOJ/PQRJBEOjganPats08z3m73bRet3LD3W4Hy7JwuVy02ikLHccBADyfTy0hoDjJ4/GgiHCz2bQ/qed5sG1bu9l3Gt/ueDxSRJgkCfv9frsNDcPAdrsFAARBgLqu2204GAwYxzGjKKJhGFrtALD3degsf++v7dcLPwF0NUFgJI0EXQAAAABJRU5ErkJggg==\"/>\r\n   </g>\r\n   <g id=\"matplotlib.axis_5\"/>\r\n   <g id=\"matplotlib.axis_6\"/>\r\n   <g id=\"patch_13\">\r\n    <path d=\"M 296.273322 123.868125 \r\nL 296.273322 22.318125 \r\n\" style=\"fill:none;stroke:#000000;stroke-linecap:square;stroke-linejoin:miter;stroke-width:0.8;\"/>\r\n   </g>\r\n   <g id=\"patch_14\">\r\n    <path d=\"M 397.823322 123.868125 \r\nL 397.823322 22.318125 \r\n\" style=\"fill:none;stroke:#000000;stroke-linecap:square;stroke-linejoin:miter;stroke-width:0.8;\"/>\r\n   </g>\r\n   <g id=\"patch_15\">\r\n    <path d=\"M 296.273322 123.868125 \r\nL 397.823322 123.868125 \r\n\" style=\"fill:none;stroke:#000000;stroke-linecap:square;stroke-linejoin:miter;stroke-width:0.8;\"/>\r\n   </g>\r\n   <g id=\"patch_16\">\r\n    <path d=\"M 296.273322 22.318125 \r\nL 397.823322 22.318125 \r\n\" style=\"fill:none;stroke:#000000;stroke-linecap:square;stroke-linejoin:miter;stroke-width:0.8;\"/>\r\n   </g>\r\n   <g id=\"text_3\">\r\n    <!-- GT: 1 -->\r\n    <g transform=\"translate(331.866447 16.318125)scale(0.12 -0.12)\">\r\n     <defs>\r\n      <path d=\"M 12.40625 8.296875 \r\nL 28.515625 8.296875 \r\nL 28.515625 63.921875 \r\nL 10.984375 60.40625 \r\nL 10.984375 69.390625 \r\nL 28.421875 72.90625 \r\nL 38.28125 72.90625 \r\nL 38.28125 8.296875 \r\nL 54.390625 8.296875 \r\nL 54.390625 0 \r\nL 12.40625 0 \r\nz\r\n\" id=\"DejaVuSans-49\"/>\r\n     </defs>\r\n     <use xlink:href=\"#DejaVuSans-71\"/>\r\n     <use x=\"73.865234\" xlink:href=\"#DejaVuSans-84\"/>\r\n     <use x=\"123.949219\" xlink:href=\"#DejaVuSans-58\"/>\r\n     <use x=\"157.640625\" xlink:href=\"#DejaVuSans-32\"/>\r\n     <use x=\"189.427734\" xlink:href=\"#DejaVuSans-49\"/>\r\n    </g>\r\n   </g>\r\n  </g>\r\n  <g id=\"axes_4\">\r\n   <g id=\"patch_17\">\r\n    <path d=\"M 10.7 255.718125 \r\nL 112.25 255.718125 \r\nL 112.25 154.168125 \r\nL 10.7 154.168125 \r\nz\r\n\" style=\"fill:#ffffff;\"/>\r\n   </g>\r\n   <g clip-path=\"url(#p5016148dd4)\">\r\n    <image height=\"28\" id=\"image27fb6f3ac0\" style=\"image-rendering:crisp-edges;image-rendering:pixelated\" transform=\"matrix(3.642857 0 0 3.642857 10.7 153.718125)\" width=\"28\" xlink:href=\"data:image/png;base64,\r\niVBORw0KGgoAAAANSUhEUgAAABwAAAAcCAYAAAByDd+UAAAB5klEQVR4nO2WscriQBSFr8Pa+LemNUIEH0DQRpLSpBB8DRGFvEFaQUQI2PsAWqbSRizUzkZQjIVCBFvLYThbGcxuYszvIruwFy6Ey5n55h4yN0kREeiDwT4J+w8Mja+vLxoOhySEoPV6TbIsJ4YiSRYKBXDOwTmHEAKtVivR+kQdSpJEo9EocUeP8eNVYafToUajQeVyOVBXVZUYY7TZbGg+n7+010tWCCF8Kx8tvT8fDgeUSqVX9oqHOY4DABBCBPJ6veJ4PAZqbwM1TYPrur91aNs26vU6VFWFZVl+vdlsfh+Yz+dxuVwC9h0OB3S7XWQyGV8nyzI8zwPnHLfbDaZpIp1OJwf+egWm0ymy2Wyott1uBw6mKMp7wNVqhVwuF6mVZRnL5TIWGHsPGWPEGKNKpUKn0ylSl0qlfC1jjCzLitRGnrrX6/kdPtP9MUt3u10sUJIkaJoWeLk8z3tm/3vAwWAQuC6u66JarUbqXx5tYeE4DhWLxUBtu93SYrF4ui7yNPv93p8ghmHAMAycz2e/FjZ9nu1HcZaaphk6N6Nqtm2/B3ycIFFAz/Mwm82gKEpg+nwLSERQVRX9fj8SmPQDHAu8p67rmEwm4JxjPB6jVqtB1/Wn0ycsU3fqp+Lv/2v754A/AauuJB12rJWkAAAAAElFTkSuQmCC\"/>\r\n   </g>\r\n   <g id=\"matplotlib.axis_7\"/>\r\n   <g id=\"matplotlib.axis_8\"/>\r\n   <g id=\"patch_18\">\r\n    <path d=\"M 10.7 255.718125 \r\nL 10.7 154.168125 \r\n\" style=\"fill:none;stroke:#000000;stroke-linecap:square;stroke-linejoin:miter;stroke-width:0.8;\"/>\r\n   </g>\r\n   <g id=\"patch_19\">\r\n    <path d=\"M 112.25 255.718125 \r\nL 112.25 154.168125 \r\n\" style=\"fill:none;stroke:#000000;stroke-linecap:square;stroke-linejoin:miter;stroke-width:0.8;\"/>\r\n   </g>\r\n   <g id=\"patch_20\">\r\n    <path d=\"M 10.7 255.718125 \r\nL 112.25 255.718125 \r\n\" style=\"fill:none;stroke:#000000;stroke-linecap:square;stroke-linejoin:miter;stroke-width:0.8;\"/>\r\n   </g>\r\n   <g id=\"patch_21\">\r\n    <path d=\"M 10.7 154.168125 \r\nL 112.25 154.168125 \r\n\" style=\"fill:none;stroke:#000000;stroke-linecap:square;stroke-linejoin:miter;stroke-width:0.8;\"/>\r\n   </g>\r\n   <g id=\"text_4\">\r\n    <!-- GT: 0 -->\r\n    <g transform=\"translate(46.293125 148.168125)scale(0.12 -0.12)\">\r\n     <defs>\r\n      <path d=\"M 31.78125 66.40625 \r\nQ 24.171875 66.40625 20.328125 58.90625 \r\nQ 16.5 51.421875 16.5 36.375 \r\nQ 16.5 21.390625 20.328125 13.890625 \r\nQ 24.171875 6.390625 31.78125 6.390625 \r\nQ 39.453125 6.390625 43.28125 13.890625 \r\nQ 47.125 21.390625 47.125 36.375 \r\nQ 47.125 51.421875 43.28125 58.90625 \r\nQ 39.453125 66.40625 31.78125 66.40625 \r\nz\r\nM 31.78125 74.21875 \r\nQ 44.046875 74.21875 50.515625 64.515625 \r\nQ 56.984375 54.828125 56.984375 36.375 \r\nQ 56.984375 17.96875 50.515625 8.265625 \r\nQ 44.046875 -1.421875 31.78125 -1.421875 \r\nQ 19.53125 -1.421875 13.0625 8.265625 \r\nQ 6.59375 17.96875 6.59375 36.375 \r\nQ 6.59375 54.828125 13.0625 64.515625 \r\nQ 19.53125 74.21875 31.78125 74.21875 \r\nz\r\n\" id=\"DejaVuSans-48\"/>\r\n     </defs>\r\n     <use xlink:href=\"#DejaVuSans-71\"/>\r\n     <use x=\"73.865234\" xlink:href=\"#DejaVuSans-84\"/>\r\n     <use x=\"123.949219\" xlink:href=\"#DejaVuSans-58\"/>\r\n     <use x=\"157.640625\" xlink:href=\"#DejaVuSans-32\"/>\r\n     <use x=\"189.427734\" xlink:href=\"#DejaVuSans-48\"/>\r\n    </g>\r\n   </g>\r\n  </g>\r\n  <g id=\"axes_5\">\r\n   <g id=\"patch_22\">\r\n    <path d=\"M 153.486661 255.718125 \r\nL 255.036661 255.718125 \r\nL 255.036661 154.168125 \r\nL 153.486661 154.168125 \r\nz\r\n\" style=\"fill:#ffffff;\"/>\r\n   </g>\r\n   <g clip-path=\"url(#p0873d69f13)\">\r\n    <image height=\"28\" id=\"imagea0116f3376\" style=\"image-rendering:crisp-edges;image-rendering:pixelated\" transform=\"matrix(3.642857 0 0 3.642857 153.486661 153.718125)\" width=\"28\" xlink:href=\"data:image/png;base64,\r\niVBORw0KGgoAAAANSUhEUgAAABwAAAAcCAYAAAByDd+UAAAB90lEQVR4nO2WvcriQBiFTxYlX1QQA9qIENRCQgoRG0sbBcFKO69ALLwEOxvRWxArf7ATS8EL0EK0sRC0MkUqQQI68d3CRRDWJGvk2y32wECYOeGZk3kzMxwAwjfqx3fC/gP/LjCVSmG/35t6crkcIpHIZ4D5fB48z5t6isUiWq2Wc6DL5UKhULD0LZdLyLIMr9frDJjNZpHJZNDtdk19gUAAsizD4/GY+sisKYpCmqbRdrsln89n6p3P58QYo2AwaOYzBw4GA9J1ndLptKlPFEUiIjIM431guVym0+lE6/XaFAaA2u02GYZBs9mM3G73e8DhcEiMMapWq6YwSZJIVVW6XC6UzWatJvf7Ab/fT4fDgRhjlumazSYxxmx9iZdVyvM8wuEw+v3+K8tDsVgMALDZbCy9LxMKgkCLxYJWqxWJovhyxqFQiAzDIMMwqFarWSZ0vZqFruvY7XYolUqYTqfodDpP44qiIBqNQpIkEN2P1Nvt9n5CAJRIJGg0GtH5fCbG2FNTVZWOxyNdr9dHnyAIlgm5Xw+mSiaTiMfjT33j8RgA0Ov1UKlUANy3QEcJ7bRGo/FIqCjK+2toVxzHgeM4APaq1DGQiB5FY0eOT/yvry8A96q2K0drqKoqaZpG9Xrd7jvOgJPJxM7++We/xSf1797aPqWf/OfODVbUoggAAAAASUVORK5CYII=\"/>\r\n   </g>\r\n   <g id=\"matplotlib.axis_9\"/>\r\n   <g id=\"matplotlib.axis_10\"/>\r\n   <g id=\"patch_23\">\r\n    <path d=\"M 153.486661 255.718125 \r\nL 153.486661 154.168125 \r\n\" style=\"fill:none;stroke:#000000;stroke-linecap:square;stroke-linejoin:miter;stroke-width:0.8;\"/>\r\n   </g>\r\n   <g id=\"patch_24\">\r\n    <path d=\"M 255.036661 255.718125 \r\nL 255.036661 154.168125 \r\n\" style=\"fill:none;stroke:#000000;stroke-linecap:square;stroke-linejoin:miter;stroke-width:0.8;\"/>\r\n   </g>\r\n   <g id=\"patch_25\">\r\n    <path d=\"M 153.486661 255.718125 \r\nL 255.036661 255.718125 \r\n\" style=\"fill:none;stroke:#000000;stroke-linecap:square;stroke-linejoin:miter;stroke-width:0.8;\"/>\r\n   </g>\r\n   <g id=\"patch_26\">\r\n    <path d=\"M 153.486661 154.168125 \r\nL 255.036661 154.168125 \r\n\" style=\"fill:none;stroke:#000000;stroke-linecap:square;stroke-linejoin:miter;stroke-width:0.8;\"/>\r\n   </g>\r\n   <g id=\"text_5\">\r\n    <!-- GT: 4 -->\r\n    <g transform=\"translate(189.079786 148.168125)scale(0.12 -0.12)\">\r\n     <defs>\r\n      <path d=\"M 37.796875 64.3125 \r\nL 12.890625 25.390625 \r\nL 37.796875 25.390625 \r\nz\r\nM 35.203125 72.90625 \r\nL 47.609375 72.90625 \r\nL 47.609375 25.390625 \r\nL 58.015625 25.390625 \r\nL 58.015625 17.1875 \r\nL 47.609375 17.1875 \r\nL 47.609375 0 \r\nL 37.796875 0 \r\nL 37.796875 17.1875 \r\nL 4.890625 17.1875 \r\nL 4.890625 26.703125 \r\nz\r\n\" id=\"DejaVuSans-52\"/>\r\n     </defs>\r\n     <use xlink:href=\"#DejaVuSans-71\"/>\r\n     <use x=\"73.865234\" xlink:href=\"#DejaVuSans-84\"/>\r\n     <use x=\"123.949219\" xlink:href=\"#DejaVuSans-58\"/>\r\n     <use x=\"157.640625\" xlink:href=\"#DejaVuSans-32\"/>\r\n     <use x=\"189.427734\" xlink:href=\"#DejaVuSans-52\"/>\r\n    </g>\r\n   </g>\r\n  </g>\r\n  <g id=\"axes_6\">\r\n   <g id=\"patch_27\">\r\n    <path d=\"M 296.273322 255.718125 \r\nL 397.823322 255.718125 \r\nL 397.823322 154.168125 \r\nL 296.273322 154.168125 \r\nz\r\n\" style=\"fill:#ffffff;\"/>\r\n   </g>\r\n   <g clip-path=\"url(#pea4ee4f947)\">\r\n    <image height=\"28\" id=\"image7afb9c0b10\" style=\"image-rendering:crisp-edges;image-rendering:pixelated\" transform=\"matrix(3.642857 0 0 3.642857 296.273322 153.718125)\" width=\"28\" xlink:href=\"data:image/png;base64,\r\niVBORw0KGgoAAAANSUhEUgAAABwAAAAcCAYAAAByDd+UAAABUUlEQVR4nO2WvYqDQBSFj/khpJ7WLi+QwjSSXixSBB/DR/ApUuUBAqlTJ3W6sUprEUwblHSK6Nlid4ctvQOGXdgDA1PMx+c9zIAOAOKNGb1T9i/8ncLNZgOSiOMY4/G4F0PbpZTi4/Hgd+bzeR/OXrjdbo3seDzScZzhhLPZjFprIwzDsC9rJ/Q8z8iapunNWV+aKIrM/nw+i1irCa/XK0myrmsul0sJK5f5vm/qLIpCxFpVulqtzH6/34t58YSHw4EkWZYlXdeV8jLZer1m27Ykyfv9Lv5YcaVKKYxGn9jlcpHiEE/4s07P82xueP/DruuaOm+3m9VzElXq+76p83Q6SVATkVApBQB4Pp/Y7XbDC4MgAADkeY7X6zWscDqdYrFYAACqqkLTNMMKu66D1hoAkGWZlQwAJn0Ptm2LJElAEmmaWgsdfL2Nd+Xv/bVJ8wG+76VajgrPwQAAAABJRU5ErkJggg==\"/>\r\n   </g>\r\n   <g id=\"matplotlib.axis_11\"/>\r\n   <g id=\"matplotlib.axis_12\"/>\r\n   <g id=\"patch_28\">\r\n    <path d=\"M 296.273322 255.718125 \r\nL 296.273322 154.168125 \r\n\" style=\"fill:none;stroke:#000000;stroke-linecap:square;stroke-linejoin:miter;stroke-width:0.8;\"/>\r\n   </g>\r\n   <g id=\"patch_29\">\r\n    <path d=\"M 397.823322 255.718125 \r\nL 397.823322 154.168125 \r\n\" style=\"fill:none;stroke:#000000;stroke-linecap:square;stroke-linejoin:miter;stroke-width:0.8;\"/>\r\n   </g>\r\n   <g id=\"patch_30\">\r\n    <path d=\"M 296.273322 255.718125 \r\nL 397.823322 255.718125 \r\n\" style=\"fill:none;stroke:#000000;stroke-linecap:square;stroke-linejoin:miter;stroke-width:0.8;\"/>\r\n   </g>\r\n   <g id=\"patch_31\">\r\n    <path d=\"M 296.273322 154.168125 \r\nL 397.823322 154.168125 \r\n\" style=\"fill:none;stroke:#000000;stroke-linecap:square;stroke-linejoin:miter;stroke-width:0.8;\"/>\r\n   </g>\r\n   <g id=\"text_6\">\r\n    <!-- GT: 1 -->\r\n    <g transform=\"translate(331.866447 148.168125)scale(0.12 -0.12)\">\r\n     <use xlink:href=\"#DejaVuSans-71\"/>\r\n     <use x=\"73.865234\" xlink:href=\"#DejaVuSans-84\"/>\r\n     <use x=\"123.949219\" xlink:href=\"#DejaVuSans-58\"/>\r\n     <use x=\"157.640625\" xlink:href=\"#DejaVuSans-32\"/>\r\n     <use x=\"189.427734\" xlink:href=\"#DejaVuSans-49\"/>\r\n    </g>\r\n   </g>\r\n  </g>\r\n </g>\r\n <defs>\r\n  <clipPath id=\"ped0a53e4f3\">\r\n   <rect height=\"101.55\" width=\"101.55\" x=\"10.7\" y=\"22.318125\"/>\r\n  </clipPath>\r\n  <clipPath id=\"pcd2cde6d41\">\r\n   <rect height=\"101.55\" width=\"101.55\" x=\"153.486661\" y=\"22.318125\"/>\r\n  </clipPath>\r\n  <clipPath id=\"p5646bba8fe\">\r\n   <rect height=\"101.55\" width=\"101.55\" x=\"296.273322\" y=\"22.318125\"/>\r\n  </clipPath>\r\n  <clipPath id=\"p5016148dd4\">\r\n   <rect height=\"101.55\" width=\"101.55\" x=\"10.7\" y=\"154.168125\"/>\r\n  </clipPath>\r\n  <clipPath id=\"p0873d69f13\">\r\n   <rect height=\"101.55\" width=\"101.55\" x=\"153.486661\" y=\"154.168125\"/>\r\n  </clipPath>\r\n  <clipPath id=\"pea4ee4f947\">\r\n   <rect height=\"101.55\" width=\"101.55\" x=\"296.273322\" y=\"154.168125\"/>\r\n  </clipPath>\r\n </defs>\r\n</svg>\r\n",
      "image/png": "[encoded data removed]"
     },
     "metadata": {}
    }
   ],
   "source": [
    "batch_size = 1000\n",
    "epoches = 10\n",
    "#  lr ????\n",
    "\n",
    "# Compose multiple transformation to one(by using list)\n",
    "transform = transforms.Compose([\n",
    "    transforms.ToTensor(),\n",
    "    transforms.Lambda(lambda x: torch.flatten(x)),\n",
    "    transforms.Lambda(lambda x: x/255.0)\n",
    "])\n",
    "\n",
    "\n",
    "# load dataset                  root      is_train_set\n",
    "train_dataset = datasets.MNIST(\"./data\", train=True, download=True, transform=transform)\n",
    "test_dataset = datasets.MNIST(\"./data\", train=False, transform=transform)\n",
    "\n",
    "# utility class to iterate over datasets\n",
    "train_loader = torch.utils.data.DataLoader(train_dataset, batch_size = batch_size)\n",
    "test_loader = torch.utils.data.DataLoader(test_dataset, batch_size = batch_size)\n",
    "\n",
    "examples = enumerate(test_loader)\n",
    "batch_idx, (example_data, example_targets) = next(examples)\n",
    "\n",
    "# load dataset                  root      is_train_set\n",
    "train_dataset = datasets.MNIST(\"./data\", train=True, download=True, transform=transform)\n",
    "test_dataset = datasets.MNIST(\"./data\", train=False, transform=transform)\n",
    "\n",
    "# utility class to iterate over datasets\n",
    "train_loader = torch.utils.data.DataLoader(train_dataset, batch_size = batch_size)\n",
    "test_loader = torch.utils.data.DataLoader(test_dataset, batch_size = batch_size)\n",
    "\n",
    "examples = enumerate(test_loader)\n",
    "batch_idx, (example_data, example_targets) = next(examples)\n",
    "\n",
    "# [batch_size, channel, height, width]\n",
    "print(example_data.shape)\n",
    "print(type(example_data))\n",
    "\n",
    "fig = plt.figure()\n",
    "for i in range(6):\n",
    "    plt.subplot(2, 3, i+1)\n",
    "    plt.tight_layout()\n",
    "    plt.imshow(torch.reshape(example_data[i], (28,28)), cmap='gray', interpolation='none')\n",
    "    plt.title(f'GT: {example_targets[i]}')\n",
    "    plt.xticks([])\n",
    "    plt.yticks([])\n",
    "fig.show()"
   ]
  },
  {
   "cell_type": "code",
   "execution_count": null,
   "metadata": {},
   "outputs": [],
   "source": [
    "class Net(nn.Module):\n",
    "    def __init__(self):\n",
    "        self.fc1 = nn.Linear(784, 16)\n",
    "        self.fc2 = nn.Linear(16, 10)\n",
    "    \n",
    "    def forward(self, x):\n",
    "        x = self.fc1(x)\n",
    "        x = F.sigmoid(x)\n",
    "        x = self.fc2(x)\n",
    "        return F.log_softmax(x, dim=1)"
   ]
  },
  {
   "cell_type": "code",
   "execution_count": 10,
   "metadata": {},
   "outputs": [
    {
     "output_type": "error",
     "ename": "SyntaxError",
     "evalue": "invalid syntax (<ipython-input-10-1cbe2dbfeeb5>, line 12)",
     "traceback": [
      "\u001b[1;36m  File \u001b[1;32m\"<ipython-input-10-1cbe2dbfeeb5>\"\u001b[1;36m, line \u001b[1;32m12\u001b[0m\n\u001b[1;33m    if batch_idx % 100 == 0\u001b[0m\n\u001b[1;37m                           ^\u001b[0m\n\u001b[1;31mSyntaxError\u001b[0m\u001b[1;31m:\u001b[0m invalid syntax\n"
     ]
    }
   ],
   "source": [
    "train_loss = []\n",
    "test_loss = []\n",
    "\n",
    "def train(model, train_loader, optimizer, epoch):\n",
    "    model.train()\n",
    "    for batch_idx, (data, target) in enumerate(train_loader):\n",
    "        optimizer.zero_grad()\n",
    "        output=model(data)\n",
    "        loss = F.nll_loss(output, target)\n",
    "        loss.backward()\n",
    "        optimizer.step()\n",
    "        print(f'Tran Epoch: {epoch} [{batch_idx}] Loss: {loss.item()}')\n",
    "\n",
    "def test(model, test_loader):\n",
    "    model.eval()\n",
    "    test_loss = 0"
   ]
  },
  {
   "cell_type": "code",
   "execution_count": null,
   "metadata": {},
   "outputs": [],
   "source": [
    "model = Net()\n",
    "optimizer = optim.Adam(model.parameters(), lr=0.01)\n",
    "scheduler = StepLR(optimizer, step_size=1, gamma=0.7)\n",
    "\n",
    "for epoch in range(1, epoches+1):\n",
    "    train(model, train_loader, optimizer, epoch)\n",
    "    test(model, test_loader)"
   ]
  }
 ]
}