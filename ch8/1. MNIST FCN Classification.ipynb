{
 "metadata": {
  "language_info": {
   "codemirror_mode": {
    "name": "ipython",
    "version": 3
   },
   "file_extension": ".py",
   "mimetype": "text/x-python",
   "name": "python",
   "nbconvert_exporter": "python",
   "pygments_lexer": "ipython3",
   "version": "3.7.9-final"
  },
  "orig_nbformat": 2,
  "kernelspec": {
   "name": "python3",
   "display_name": "Python 3",
   "language": "python"
  }
 },
 "nbformat": 4,
 "nbformat_minor": 2,
 "cells": [
  {
   "source": [
    "# Machine learning\n",
    "## Chapter 8, MNIST FCN classification\n",
    "## Jun Sup Shin, Digital imaging, GSAIM, CAU"
   ],
   "cell_type": "markdown",
   "metadata": {}
  },
  {
   "cell_type": "code",
   "execution_count": 2,
   "metadata": {},
   "outputs": [],
   "source": [
    "from __future__ import print_function\n",
    "import torch\n",
    "import torch.nn as nn\n",
    "import torch.nn.functional as F\n",
    "import torch.optim as optim\n",
    "from torchvision import datasets, transforms\n",
    "from torch.optim.lr_scheduler import StepLR\n",
    "from PIL import Image # for renderling image\n",
    "\n",
    "import matplotlib as mpl\n",
    "import matplotlib.pyplot as plt\n",
    "import numpy as np"
   ]
  },
  {
   "cell_type": "code",
   "execution_count": 4,
   "metadata": {},
   "outputs": [
    {
     "output_type": "stream",
     "name": "stdout",
     "text": [
      "torch.Size([1000, 784])\n<class 'torch.Tensor'>\n"
     ]
    }
   ],
   "source": [
    "batch_size = 1000\n",
    "epoches = 10\n",
    "#  lr ????\n",
    "\n",
    "# Compose multiple transformation to one(by using list)\n",
    "transform = transforms.Compose([\n",
    "    transforms.ToTensor(),\n",
    "    transforms.Lambda(lambda x: torch.flatten(x)),\n",
    "    transforms.Lambda(lambda x: x/255.0)\n",
    "])\n",
    "\n",
    "\n",
    "# load dataset                  root      is_train_set\n",
    "train_dataset = datasets.MNIST(\"./data\", train=True, download=True, transform=transform)\n",
    "test_dataset = datasets.MNIST(\"./data\", train=False, transform=transform)\n",
    "\n",
    "# utility class to iterate over datasets\n",
    "train_loader = torch.utils.data.DataLoader(train_dataset, batch_size = batch_size)\n",
    "test_loader = torch.utils.data.DataLoader(test_dataset, batch_size = batch_size)\n",
    "\n",
    "examples = enumerate(test_loader)\n",
    "batch_idx, (example_data, example_targets) = next(examples)\n",
    "\n",
    "# load dataset                  root      is_train_set\n",
    "train_dataset = datasets.MNIST(\"./data\", train=True, download=True, transform=transform)\n",
    "test_dataset = datasets.MNIST(\"./data\", train=False, transform=transform)\n",
    "\n",
    "# utility class to iterate over datasets\n",
    "train_loader = torch.utils.data.DataLoader(train_dataset, batch_size = batch_size)\n",
    "test_loader = torch.utils.data.DataLoader(test_dataset, batch_size = batch_size)\n",
    "\n",
    "examples = enumerate(test_loader)\n",
    "batch_idx, (example_data, example_targets) = next(examples)\n",
    "\n",
    "# [batch_size, channel, height, width]\n",
    "print(example_data.shape)\n",
    "print(type(example_data))\n",
    "\n",
    "fig = plt.figure()\n",
    "for i in range(6):\n",
    "    plt.subplot(2, 3, i+1)\n",
    "    plt.tight_layout()\n",
    "    plt.imshow(torch.reshape(example_data[i][0], (-1, 28,28)), cmap='gray', interpolation='none')\n",
    "    plt.title(f'GT: {example_targets[i]}')\n",
    "    plt.xticks([])\n",
    "    plt.yticks([])\n",
    "fig.show()"
   ]
  }
 ]
}