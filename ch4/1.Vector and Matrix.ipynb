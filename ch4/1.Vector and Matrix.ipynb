{
 "metadata": {
  "language_info": {
   "codemirror_mode": {
    "name": "ipython",
    "version": 3
   },
   "file_extension": ".py",
   "mimetype": "text/x-python",
   "name": "python",
   "nbconvert_exporter": "python",
   "pygments_lexer": "ipython3",
   "version": "3.8.5-final"
  },
  "orig_nbformat": 2,
  "kernelspec": {
   "name": "python3",
   "display_name": "Python 3",
   "language": "python"
  }
 },
 "nbformat": 4,
 "nbformat_minor": 2,
 "cells": [
  {
   "source": [
    "# Machine learning\n",
    "## Chapter 4, Vector and Matrix\n",
    "## Jun Sup Shin, Digital Imaging, GASIM, CAU"
   ],
   "cell_type": "markdown",
   "metadata": {}
  },
  {
   "cell_type": "code",
   "execution_count": 1,
   "metadata": {},
   "outputs": [],
   "source": [
    "import matplotlib as mpl\n",
    "import matplotlib.pyplot as plt\n",
    "import numpy as np\n",
    "%matplotlib inline"
   ]
  },
  {
   "source": [
    "## `np.ndarray`\n",
    "* For vectors, use `np.array` to create `np.ndarray` class\n",
    "* `np.array` creates `np.ndarray` object using python `list`\n",
    "* To use linear algebra stuffs, use two bracket of list\n",
    "   * `[[...]]`\n",
    "   * `[[], [], []]`"
   ],
   "cell_type": "markdown",
   "metadata": {}
  },
  {
   "source": [
    "row_x = np.array([[1, 2, 3]])\n",
    "print(\"row vector of x\", row_x)\n",
    "\n",
    "col_x = row_x.T # transpose\n",
    "print(\"column vector of x\")\n",
    "print(col_x)"
   ],
   "cell_type": "code",
   "metadata": {},
   "execution_count": 2,
   "outputs": [
    {
     "output_type": "stream",
     "name": "stdout",
     "text": [
      "row vector of x [[1 2 3]]\ncolumn vector of x\n[[1]\n [2]\n [3]]\n"
     ]
    }
   ]
  },
  {
   "source": [
    "## Arithmetic of vectors\n",
    "* you can use basic arithmetic of vector by using default python operator\n",
    "   * or you can use numpy functions \n",
    "* basic operation for multiplication is **element-wise multiplication**\n",
    "   * use `dot` for dot product\n",
    "* shape needs to be same to get expected behavior or avoid error"
   ],
   "cell_type": "markdown",
   "metadata": {}
  },
  {
   "cell_type": "code",
   "execution_count": 3,
   "metadata": {},
   "outputs": [
    {
     "output_type": "stream",
     "name": "stdout",
     "text": [
      "a+b  =  [[3 4 5]]\na-b  =  [[-1  0  1]]\na*b  =  [[2 4 6]]\na*3  =  [[3 6 9]]\na/b  =  [[0.5 1.  1.5]]\na**b =  [[1 4 9]]\na//b =  [[0 1 1]]\na%b  =  [[1 0 1]]\n\na.dot(b.T) =  [[12]]\nnp.cross(a, b) =  [[-2  4 -2]]\n"
     ]
    }
   ],
   "source": [
    "a = np.array([[1, 2, 3]])\n",
    "b = np.array([[2, 2, 2]])\n",
    "\n",
    "print(\"a+b  = \", a+b)    # np.add(a, b)\n",
    "print(\"a-b  = \", a-b)    # np.subtract(a, b)\n",
    "print(\"a*b  = \", a*b)    # np.multiply(a, b)       * element-wise multiplication\n",
    "print(\"a*3  = \", a*3)    # np.multiply(a, scalar)\n",
    "print(\"a/b  = \", a/b)    # np.divide(a, b)\n",
    "print(\"a**b = \", a**b)   # np.power(a, b)\n",
    "print(\"a//b = \", a//b)   # np.divmod(a, b)[0]\n",
    "print(\"a%b  = \", a%b)    # np.divmod(a, b)[1]\n",
    "\n",
    "print(\"\\na.dot(b.T) = \", a.dot(b.T))\n",
    "print(\"np.cross(a, b) = \", np.cross(a, b))"
   ]
  },
  {
   "source": [
    "## Matrix by `np.ndarray`\n",
    "* can also use `np.array` to create matrix as 2D array\n",
    "* arithmetic can be used exactly same as vector\n",
    "   * notice that basic operations of `np.ndarray` is **element-wise** operations\n",
    "* for matrix multiplication you can use one of bellow two\n",
    "   * `A.dot(B)`\n",
    "   * `np.matmul(A, B)`"
   ],
   "cell_type": "markdown",
   "metadata": {}
  },
  {
   "cell_type": "code",
   "execution_count": 4,
   "metadata": {},
   "outputs": [
    {
     "output_type": "stream",
     "name": "stdout",
     "text": [
      "Element-wise multiplication\n [[2 6]\n [6 4]]\nMatrix multiplication via dot\n [[ 6  5]\n [14 13]]\nMatrix multiplication via matmul\n [[ 6  5]\n [14 13]]\n"
     ]
    }
   ],
   "source": [
    "A = np.array([[1, 2], [3, 4]])\n",
    "B = np.array([[2, 3], [2, 1]])\n",
    "\n",
    "print(\"Element-wise multiplication\\n\", A*B)\n",
    "print(\"Matrix multiplication via dot\\n\", A.dot(B))\n",
    "print(\"Matrix multiplication via matmul\\n\", np.matmul(A, B))"
   ]
  },
  {
   "source": [
    "## Matrix by `np.matrix`\n",
    "* specialized `np.ndarray` for 2 dimension\n",
    "* multiplication(`*`) is matrix multiplication\n",
    "* `A ** n` is matrix product $A^{n}$\n",
    "* supports `.H` for conjugate transpose, `.I` for inverse matrix"
   ],
   "cell_type": "markdown",
   "metadata": {}
  },
  {
   "cell_type": "code",
   "execution_count": 5,
   "metadata": {},
   "outputs": [
    {
     "output_type": "stream",
     "name": "stdout",
     "text": [
      "matrix multiplication \n [[ 6  5]\n [14 13]]\n\nmatrix power A^2\n [[ 7 10]\n [15 22]]\nmatrix power A*A\n [[ 7 10]\n [15 22]]\nnp.power\n [[ 1  4]\n [ 9 16]]\n"
     ]
    }
   ],
   "source": [
    "A = np.matrix([[1, 2], [3, 4]])\n",
    "B = np.matrix([[2, 3], [2, 1]])\n",
    "print(\"matrix multiplication \\n\", A * B)\n",
    "\n",
    "print(\"\\nmatrix power A^2\\n\", A**2)\n",
    "print(\"matrix power A*A\\n\", A*A)\n",
    "print(\"np.power\\n\", np.power(A, 2))"
   ]
  },
  {
   "source": [
    "## `np.ndarray` vs `np.matrix`\n",
    "* it seems like using `np.matrix` is more usefull and intuitive\n",
    "* From googling, I found out that `np.matrix` is somewhat **deprecated**\n",
    "* There are limitations for `np.matrix`\n",
    "   * Cannot handle 3 or more dimensional objects (tensor)\n",
    "   * mixing `np.ndarray` and `np.matrix` annoies programmer\n",
    "* converting between two is possible\n",
    "   * `np.asarray`, `np.asmatrix`\n",
    "\n",
    "from my experience, I prefer using `np.ndarray` from above limitations but also because\n",
    "* Since python is dynamic typed language, it is hard for me to identify the type when debugging\n",
    "* explicitly use `np.*` functions instead python operators\n",
    "   * for example, I never use element-wise multiplication operator `*` for np.ndarray\n",
    "   * I always use `np.multiply` or `np.matmul` for multiplication\n",
    "   * for some special situations, I use `np.matrix` for only temporary  variables"
   ],
   "cell_type": "markdown",
   "metadata": {}
  },
  {
   "cell_type": "code",
   "execution_count": 6,
   "metadata": {},
   "outputs": [],
   "source": [
    "A = np.array([[1, 2], [2, 3]])\n",
    "\n",
    "# when I want np.matrix operations...\n",
    "B = np.asarray(np.asmatrix(A)**5)"
   ]
  },
  {
   "source": [
    "## `np.linalg`\n",
    "numpy package for linear algebra\n",
    "\n",
    "### Some useful functions\n",
    "#### Matrix operations\n",
    "* `np.linalg.matrix_power` : matrix power product\n",
    "#### Decomposition\n",
    "* `np.linalg.cholesky` : cholesky decomposition\n",
    "* `np.linalg.qr` : QR decomposition\n",
    "* `np.linalg.svd` : SVD decomposition\n",
    "#### Eigen values\n",
    "* `np.linalg.eig` : compute eigen value\n",
    "#### Numbers\n",
    "* `np.linalg.det` : determinant\n",
    "* `np.linalg.norm` : norm(L2)\n",
    "* `np.linalg.matrix_rank` : rank\n",
    "* `np.linalg.trance` : trace\n",
    "#### Solving equations\n",
    "* `np.linalg.solve` : solve linear equations\n",
    "* `np.linalg.lstsq` : least square solution\n",
    "* `np.linalg.inv` : inverse\n",
    "* `np.linalg.pinv` : pseudo inverse"
   ],
   "cell_type": "markdown",
   "metadata": {}
  }
 ]
}